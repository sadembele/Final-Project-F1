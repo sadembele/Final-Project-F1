{
 "cells": [
  {
   "cell_type": "code",
   "execution_count": 1,
   "id": "69b7bdfd-2d6e-42b1-8dc2-5a7083b73b23",
   "metadata": {},
   "outputs": [],
   "source": [
    "import pandas as pd\n",
    "import numpy as np\n",
    "from sklearn import linear_model\n",
    "import statsmodels.api as sm\n",
    "from scipy.stats import chi2_contingency"
   ]
  },
  {
   "cell_type": "code",
   "execution_count": 2,
   "id": "aea16fe3-6fd4-4067-b013-732d6897d50d",
   "metadata": {},
   "outputs": [],
   "source": [
    "PIT = pd.read_csv('/Users/biddieb/Desktop/updated_PitStopFinal.csv')"
   ]
  },
  {
   "cell_type": "code",
   "execution_count": 3,
   "id": "28daae89-39fd-4e2d-af53-90edd8120e89",
   "metadata": {},
   "outputs": [],
   "source": [
    "cont_table = pd.crosstab(PIT.position, PIT.engineType)"
   ]
  },
  {
   "cell_type": "code",
   "execution_count": 4,
   "id": "9602e246-1b32-400b-8a9b-4aedb62ecae3",
   "metadata": {},
   "outputs": [
    {
     "data": {
      "text/plain": [
       "(242.7577126316375,\n",
       " 7.880955733692788e-24,\n",
       " 60,\n",
       " array([[ 8.95677233, 16.70317003, 12.52737752,  3.81268012],\n",
       "        [ 7.89048991, 14.71469741, 11.03602305,  3.35878963],\n",
       "        [ 8.53025937, 15.90778098, 11.93083573,  3.63112392],\n",
       "        [ 7.46397695, 13.91930836, 10.43948127,  3.17723343],\n",
       "        [ 7.67723343, 14.31700288, 10.73775216,  3.26801153],\n",
       "        [ 7.25072046, 13.52161383, 10.14121037,  3.08645533],\n",
       "        [ 7.03746398, 13.12391931,  9.84293948,  2.99567723],\n",
       "        [ 7.89048991, 14.71469741, 11.03602305,  3.35878963],\n",
       "        [ 6.61095101, 12.32853026,  9.24639769,  2.81412104],\n",
       "        [ 7.67723343, 14.31700288, 10.73775216,  3.26801153],\n",
       "        [ 7.46397695, 13.91930836, 10.43948127,  3.17723343],\n",
       "        [ 7.46397695, 13.91930836, 10.43948127,  3.17723343],\n",
       "        [ 7.67723343, 14.31700288, 10.73775216,  3.26801153],\n",
       "        [ 9.17002882, 17.10086455, 12.82564841,  3.90345821],\n",
       "        [ 8.53025937, 15.90778098, 11.93083573,  3.63112392],\n",
       "        [ 8.31700288, 15.51008646, 11.63256484,  3.54034582],\n",
       "        [ 6.82420749, 12.72622478,  9.54466859,  2.90489914],\n",
       "        [ 7.25072046, 13.52161383, 10.14121037,  3.08645533],\n",
       "        [ 5.54466859, 10.34005764,  7.75504323,  2.36023055],\n",
       "        [ 2.34582133,  4.37463977,  3.28097983,  0.99855908],\n",
       "        [ 0.42651297,  0.79538905,  0.59654179,  0.1815562 ]]))"
      ]
     },
     "execution_count": 4,
     "metadata": {},
     "output_type": "execute_result"
    }
   ],
   "source": [
    "chi2_contingency(cont_table)"
   ]
  },
  {
   "cell_type": "code",
   "execution_count": 5,
   "id": "da058ccc-ba6a-4777-b1aa-a729a2a4a99e",
   "metadata": {},
   "outputs": [],
   "source": [
    "PIT1 = PIT.drop(['duration'], axis=1)"
   ]
  },
  {
   "cell_type": "code",
   "execution_count": 6,
   "id": "fa12d29e-7102-44fd-b7cb-a3179e8d22dd",
   "metadata": {},
   "outputs": [
    {
     "name": "stdout",
     "output_type": "stream",
     "text": [
      "<class 'pandas.core.frame.DataFrame'>\n",
      "RangeIndex: 694 entries, 0 to 693\n",
      "Data columns (total 14 columns):\n",
      " #   Column                  Non-Null Count  Dtype  \n",
      "---  ------                  --------------  -----  \n",
      " 0   raceId                  694 non-null    int64  \n",
      " 1   driverId                694 non-null    int64  \n",
      " 2   stop                    694 non-null    int64  \n",
      " 3   lap                     694 non-null    int64  \n",
      " 4   time                    694 non-null    object \n",
      " 5   milliseconds            694 non-null    int64  \n",
      " 6   constructorId           694 non-null    int64  \n",
      " 7   grid                    694 non-null    int64  \n",
      " 8   position                694 non-null    int64  \n",
      " 9   fastestLapTime          694 non-null    object \n",
      " 10  fastestLapSpeed         694 non-null    float64\n",
      " 11  FastestLapSeconds       694 non-null    float64\n",
      " 12  FastestLapMilliseconds  694 non-null    int64  \n",
      " 13  engineType              694 non-null    int64  \n",
      "dtypes: float64(2), int64(10), object(2)\n",
      "memory usage: 76.0+ KB\n"
     ]
    }
   ],
   "source": [
    "PIT1.info()"
   ]
  },
  {
   "cell_type": "code",
   "execution_count": null,
   "id": "9895d43a-cedb-45ae-aca9-b9636cd3f734",
   "metadata": {},
   "outputs": [],
   "source": []
  }
 ],
 "metadata": {
  "kernelspec": {
   "display_name": "Python 3 (ipykernel)",
   "language": "python",
   "name": "python3"
  },
  "language_info": {
   "codemirror_mode": {
    "name": "ipython",
    "version": 3
   },
   "file_extension": ".py",
   "mimetype": "text/x-python",
   "name": "python",
   "nbconvert_exporter": "python",
   "pygments_lexer": "ipython3",
   "version": "3.9.7"
  }
 },
 "nbformat": 4,
 "nbformat_minor": 5
}
