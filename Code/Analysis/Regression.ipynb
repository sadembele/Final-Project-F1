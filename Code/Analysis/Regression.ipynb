{
 "cells": [
  {
   "cell_type": "code",
   "execution_count": 3,
   "id": "e64be759-4485-428a-84ac-3f8da80229a4",
   "metadata": {},
   "outputs": [],
   "source": [
    "import pandas as pd\n",
    "import numpy as np\n",
    "from sklearn import linear_model\n",
    "import statsmodels.api as sm"
   ]
  },
  {
   "cell_type": "code",
   "execution_count": 4,
   "id": "f9d87de1-0809-4ccf-b0a8-6e777d8de9da",
   "metadata": {},
   "outputs": [],
   "source": [
    "PIT = pd.read_csv('/Users/biddieb/Desktop/updated_PitStopFinal.csv')"
   ]
  },
  {
   "cell_type": "code",
   "execution_count": 5,
   "id": "bbd2c7ca-8ee6-45bd-b813-36cd4c2b1415",
   "metadata": {},
   "outputs": [
    {
     "data": {
      "text/html": [
       "<div>\n",
       "<style scoped>\n",
       "    .dataframe tbody tr th:only-of-type {\n",
       "        vertical-align: middle;\n",
       "    }\n",
       "\n",
       "    .dataframe tbody tr th {\n",
       "        vertical-align: top;\n",
       "    }\n",
       "\n",
       "    .dataframe thead th {\n",
       "        text-align: right;\n",
       "    }\n",
       "</style>\n",
       "<table border=\"1\" class=\"dataframe\">\n",
       "  <thead>\n",
       "    <tr style=\"text-align: right;\">\n",
       "      <th></th>\n",
       "      <th>raceId</th>\n",
       "      <th>driverId</th>\n",
       "      <th>stop</th>\n",
       "      <th>lap</th>\n",
       "      <th>time</th>\n",
       "      <th>duration</th>\n",
       "      <th>milliseconds</th>\n",
       "      <th>constructorId</th>\n",
       "      <th>grid</th>\n",
       "      <th>position</th>\n",
       "      <th>fastestLapTime</th>\n",
       "      <th>fastestLapSpeed</th>\n",
       "      <th>FastestLapSeconds</th>\n",
       "      <th>FastestLapMilliseconds</th>\n",
       "      <th>engineType</th>\n",
       "    </tr>\n",
       "  </thead>\n",
       "  <tbody>\n",
       "    <tr>\n",
       "      <th>0</th>\n",
       "      <td>1051</td>\n",
       "      <td>1</td>\n",
       "      <td>2</td>\n",
       "      <td>42</td>\n",
       "      <td>18:05:37</td>\n",
       "      <td>25.381</td>\n",
       "      <td>25381</td>\n",
       "      <td>131</td>\n",
       "      <td>1</td>\n",
       "      <td>1</td>\n",
       "      <td>01:25.1</td>\n",
       "      <td>227.633</td>\n",
       "      <td>85.1</td>\n",
       "      <td>85100</td>\n",
       "      <td>1</td>\n",
       "    </tr>\n",
       "    <tr>\n",
       "      <th>1</th>\n",
       "      <td>1052</td>\n",
       "      <td>1</td>\n",
       "      <td>1</td>\n",
       "      <td>13</td>\n",
       "      <td>18:30:29</td>\n",
       "      <td>24.839</td>\n",
       "      <td>24839</td>\n",
       "      <td>131</td>\n",
       "      <td>2</td>\n",
       "      <td>1</td>\n",
       "      <td>01:34.0</td>\n",
       "      <td>207.235</td>\n",
       "      <td>94.0</td>\n",
       "      <td>94000</td>\n",
       "      <td>1</td>\n",
       "    </tr>\n",
       "    <tr>\n",
       "      <th>2</th>\n",
       "      <td>1052</td>\n",
       "      <td>1</td>\n",
       "      <td>2</td>\n",
       "      <td>28</td>\n",
       "      <td>18:54:40</td>\n",
       "      <td>24.076</td>\n",
       "      <td>24076</td>\n",
       "      <td>131</td>\n",
       "      <td>2</td>\n",
       "      <td>1</td>\n",
       "      <td>01:34.0</td>\n",
       "      <td>207.235</td>\n",
       "      <td>94.0</td>\n",
       "      <td>94000</td>\n",
       "      <td>1</td>\n",
       "    </tr>\n",
       "    <tr>\n",
       "      <th>3</th>\n",
       "      <td>1053</td>\n",
       "      <td>1</td>\n",
       "      <td>1</td>\n",
       "      <td>28</td>\n",
       "      <td>15:49:27</td>\n",
       "      <td>32.112</td>\n",
       "      <td>32112</td>\n",
       "      <td>131</td>\n",
       "      <td>1</td>\n",
       "      <td>2</td>\n",
       "      <td>01:16.7</td>\n",
       "      <td>230.403</td>\n",
       "      <td>76.7</td>\n",
       "      <td>76700</td>\n",
       "      <td>1</td>\n",
       "    </tr>\n",
       "    <tr>\n",
       "      <th>4</th>\n",
       "      <td>1053</td>\n",
       "      <td>1</td>\n",
       "      <td>2</td>\n",
       "      <td>31</td>\n",
       "      <td>15:55:30</td>\n",
       "      <td>38.198</td>\n",
       "      <td>38198</td>\n",
       "      <td>131</td>\n",
       "      <td>1</td>\n",
       "      <td>2</td>\n",
       "      <td>01:16.7</td>\n",
       "      <td>230.403</td>\n",
       "      <td>76.7</td>\n",
       "      <td>76700</td>\n",
       "      <td>1</td>\n",
       "    </tr>\n",
       "    <tr>\n",
       "      <th>...</th>\n",
       "      <td>...</td>\n",
       "      <td>...</td>\n",
       "      <td>...</td>\n",
       "      <td>...</td>\n",
       "      <td>...</td>\n",
       "      <td>...</td>\n",
       "      <td>...</td>\n",
       "      <td>...</td>\n",
       "      <td>...</td>\n",
       "      <td>...</td>\n",
       "      <td>...</td>\n",
       "      <td>...</td>\n",
       "      <td>...</td>\n",
       "      <td>...</td>\n",
       "      <td>...</td>\n",
       "    </tr>\n",
       "    <tr>\n",
       "      <th>689</th>\n",
       "      <td>1071</td>\n",
       "      <td>854</td>\n",
       "      <td>3</td>\n",
       "      <td>11</td>\n",
       "      <td>14:20:29</td>\n",
       "      <td>41.173</td>\n",
       "      <td>41173</td>\n",
       "      <td>210</td>\n",
       "      <td>18</td>\n",
       "      <td>18</td>\n",
       "      <td>01:13.8</td>\n",
       "      <td>210.215</td>\n",
       "      <td>73.8</td>\n",
       "      <td>73800</td>\n",
       "      <td>2</td>\n",
       "    </tr>\n",
       "    <tr>\n",
       "      <th>690</th>\n",
       "      <td>1071</td>\n",
       "      <td>854</td>\n",
       "      <td>4</td>\n",
       "      <td>29</td>\n",
       "      <td>14:44:54</td>\n",
       "      <td>25.597</td>\n",
       "      <td>25597</td>\n",
       "      <td>210</td>\n",
       "      <td>18</td>\n",
       "      <td>18</td>\n",
       "      <td>01:13.8</td>\n",
       "      <td>210.215</td>\n",
       "      <td>73.8</td>\n",
       "      <td>73800</td>\n",
       "      <td>2</td>\n",
       "    </tr>\n",
       "    <tr>\n",
       "      <th>691</th>\n",
       "      <td>1071</td>\n",
       "      <td>854</td>\n",
       "      <td>5</td>\n",
       "      <td>61</td>\n",
       "      <td>15:26:09</td>\n",
       "      <td>24.627</td>\n",
       "      <td>24627</td>\n",
       "      <td>210</td>\n",
       "      <td>18</td>\n",
       "      <td>18</td>\n",
       "      <td>01:13.8</td>\n",
       "      <td>210.215</td>\n",
       "      <td>73.8</td>\n",
       "      <td>73800</td>\n",
       "      <td>2</td>\n",
       "    </tr>\n",
       "    <tr>\n",
       "      <th>692</th>\n",
       "      <td>1073</td>\n",
       "      <td>854</td>\n",
       "      <td>1</td>\n",
       "      <td>10</td>\n",
       "      <td>17:18:55</td>\n",
       "      <td>22.124</td>\n",
       "      <td>22124</td>\n",
       "      <td>210</td>\n",
       "      <td>19</td>\n",
       "      <td>14</td>\n",
       "      <td>01:29.5</td>\n",
       "      <td>212.522</td>\n",
       "      <td>89.5</td>\n",
       "      <td>89500</td>\n",
       "      <td>2</td>\n",
       "    </tr>\n",
       "    <tr>\n",
       "      <th>693</th>\n",
       "      <td>1073</td>\n",
       "      <td>854</td>\n",
       "      <td>2</td>\n",
       "      <td>52</td>\n",
       "      <td>18:23:42</td>\n",
       "      <td>22.07</td>\n",
       "      <td>22070</td>\n",
       "      <td>210</td>\n",
       "      <td>19</td>\n",
       "      <td>14</td>\n",
       "      <td>01:29.5</td>\n",
       "      <td>212.522</td>\n",
       "      <td>89.5</td>\n",
       "      <td>89500</td>\n",
       "      <td>2</td>\n",
       "    </tr>\n",
       "  </tbody>\n",
       "</table>\n",
       "<p>694 rows × 15 columns</p>\n",
       "</div>"
      ],
      "text/plain": [
       "     raceId  driverId  stop  lap      time duration  milliseconds  \\\n",
       "0      1051         1     2   42  18:05:37   25.381         25381   \n",
       "1      1052         1     1   13  18:30:29   24.839         24839   \n",
       "2      1052         1     2   28  18:54:40   24.076         24076   \n",
       "3      1053         1     1   28  15:49:27   32.112         32112   \n",
       "4      1053         1     2   31  15:55:30   38.198         38198   \n",
       "..      ...       ...   ...  ...       ...      ...           ...   \n",
       "689    1071       854     3   11  14:20:29   41.173         41173   \n",
       "690    1071       854     4   29  14:44:54   25.597         25597   \n",
       "691    1071       854     5   61  15:26:09   24.627         24627   \n",
       "692    1073       854     1   10  17:18:55   22.124         22124   \n",
       "693    1073       854     2   52  18:23:42    22.07         22070   \n",
       "\n",
       "     constructorId  grid  position fastestLapTime  fastestLapSpeed  \\\n",
       "0              131     1         1        01:25.1          227.633   \n",
       "1              131     2         1        01:34.0          207.235   \n",
       "2              131     2         1        01:34.0          207.235   \n",
       "3              131     1         2        01:16.7          230.403   \n",
       "4              131     1         2        01:16.7          230.403   \n",
       "..             ...   ...       ...            ...              ...   \n",
       "689            210    18        18        01:13.8          210.215   \n",
       "690            210    18        18        01:13.8          210.215   \n",
       "691            210    18        18        01:13.8          210.215   \n",
       "692            210    19        14        01:29.5          212.522   \n",
       "693            210    19        14        01:29.5          212.522   \n",
       "\n",
       "     FastestLapSeconds  FastestLapMilliseconds  engineType  \n",
       "0                 85.1                   85100           1  \n",
       "1                 94.0                   94000           1  \n",
       "2                 94.0                   94000           1  \n",
       "3                 76.7                   76700           1  \n",
       "4                 76.7                   76700           1  \n",
       "..                 ...                     ...         ...  \n",
       "689               73.8                   73800           2  \n",
       "690               73.8                   73800           2  \n",
       "691               73.8                   73800           2  \n",
       "692               89.5                   89500           2  \n",
       "693               89.5                   89500           2  \n",
       "\n",
       "[694 rows x 15 columns]"
      ]
     },
     "execution_count": 5,
     "metadata": {},
     "output_type": "execute_result"
    }
   ],
   "source": [
    "PIT"
   ]
  },
  {
   "cell_type": "markdown",
   "id": "ee50d90b-13d8-44fb-a518-7e782c302d17",
   "metadata": {},
   "source": [
    "## Regression Analysis"
   ]
  },
  {
   "cell_type": "code",
   "execution_count": 6,
   "id": "5c748735-7118-442d-9fc9-a45b98b8f9be",
   "metadata": {},
   "outputs": [],
   "source": [
    "## X = df[['Weight', 'Volume']]\n",
    "## y = df['CO2']"
   ]
  },
  {
   "cell_type": "code",
   "execution_count": 12,
   "id": "1f2f3d2c-3439-4386-bc69-60111bb8995b",
   "metadata": {},
   "outputs": [],
   "source": [
    "x = PIT[['grid','FastestLapMilliseconds', 'stop', 'fastestLapSpeed', 'engineType']]\n",
    "y = PIT ['position']"
   ]
  },
  {
   "cell_type": "markdown",
   "id": "8d905efd-c37d-410e-91fd-2e361dbdf3cc",
   "metadata": {},
   "source": [
    "### Looking at all variables"
   ]
  },
  {
   "cell_type": "code",
   "execution_count": 13,
   "id": "b57841fd-faf9-4fd7-b50c-e6d0a9ee0a52",
   "metadata": {},
   "outputs": [
    {
     "name": "stdout",
     "output_type": "stream",
     "text": [
      "<class 'pandas.core.frame.DataFrame'>\n",
      "RangeIndex: 694 entries, 0 to 693\n",
      "Data columns (total 15 columns):\n",
      " #   Column                  Non-Null Count  Dtype  \n",
      "---  ------                  --------------  -----  \n",
      " 0   raceId                  694 non-null    int64  \n",
      " 1   driverId                694 non-null    int64  \n",
      " 2   stop                    694 non-null    int64  \n",
      " 3   lap                     694 non-null    int64  \n",
      " 4   time                    694 non-null    object \n",
      " 5   duration                694 non-null    object \n",
      " 6   milliseconds            694 non-null    int64  \n",
      " 7   constructorId           694 non-null    int64  \n",
      " 8   grid                    694 non-null    int64  \n",
      " 9   position                694 non-null    int64  \n",
      " 10  fastestLapTime          694 non-null    object \n",
      " 11  fastestLapSpeed         694 non-null    float64\n",
      " 12  FastestLapSeconds       694 non-null    float64\n",
      " 13  FastestLapMilliseconds  694 non-null    int64  \n",
      " 14  engineType              694 non-null    int64  \n",
      "dtypes: float64(2), int64(10), object(3)\n",
      "memory usage: 81.5+ KB\n"
     ]
    }
   ],
   "source": [
    "PIT.info()"
   ]
  },
  {
   "cell_type": "markdown",
   "id": "eb95456f-d5a7-4c1e-8829-5664ad635ef3",
   "metadata": {},
   "source": [
    "### Changing Variable Types"
   ]
  },
  {
   "cell_type": "code",
   "execution_count": 14,
   "id": "f3480e13-ef0a-4be8-8096-893256b82618",
   "metadata": {},
   "outputs": [],
   "source": [
    "PIT.grid = PIT.grid.astype(int)"
   ]
  },
  {
   "cell_type": "code",
   "execution_count": 15,
   "id": "6dd6e22e-a305-414a-9116-6d74e4d23e40",
   "metadata": {},
   "outputs": [],
   "source": [
    "PIT.FastestLapMilliseconds = PIT.FastestLapMilliseconds.astype(int)"
   ]
  },
  {
   "cell_type": "markdown",
   "id": "79fec8b6-5178-49ab-bd82-4fef4a30df46",
   "metadata": {},
   "source": [
    "### Doing a Linear Regression"
   ]
  },
  {
   "cell_type": "code",
   "execution_count": 16,
   "id": "85043b45-91da-4f80-a081-4c6515e4a9a6",
   "metadata": {},
   "outputs": [
    {
     "data": {
      "text/plain": [
       "LinearRegression()"
      ]
     },
     "execution_count": 16,
     "metadata": {},
     "output_type": "execute_result"
    }
   ],
   "source": [
    "regr = linear_model.LinearRegression()\n",
    "regr.fit(x, y)"
   ]
  },
  {
   "cell_type": "code",
   "execution_count": 17,
   "id": "ff0df79e-9145-4e7c-8cba-71f4b2fd639c",
   "metadata": {},
   "outputs": [],
   "source": [
    "results = sm.OLS(y, x).fit()"
   ]
  },
  {
   "cell_type": "code",
   "execution_count": 18,
   "id": "84dfacb2-8f23-4a90-8658-cae5ac0c75f1",
   "metadata": {},
   "outputs": [
    {
     "name": "stdout",
     "output_type": "stream",
     "text": [
      "                                 OLS Regression Results                                \n",
      "=======================================================================================\n",
      "Dep. Variable:               position   R-squared (uncentered):                   0.807\n",
      "Model:                            OLS   Adj. R-squared (uncentered):              0.805\n",
      "Method:                 Least Squares   F-statistic:                              575.6\n",
      "Date:                Thu, 02 Jun 2022   Prob (F-statistic):                   3.55e-243\n",
      "Time:                        21:22:17   Log-Likelihood:                         -2052.1\n",
      "No. Observations:                 694   AIC:                                      4114.\n",
      "Df Residuals:                     689   BIC:                                      4137.\n",
      "Df Model:                           5                                                  \n",
      "Covariance Type:            nonrobust                                                  \n",
      "==========================================================================================\n",
      "                             coef    std err          t      P>|t|      [0.025      0.975]\n",
      "------------------------------------------------------------------------------------------\n",
      "grid                       0.5063      0.031     16.124      0.000       0.445       0.568\n",
      "FastestLapMilliseconds -4.784e-07   1.43e-05     -0.034      0.973   -2.85e-05    2.75e-05\n",
      "stop                       0.4913      0.187      2.628      0.009       0.124       0.858\n",
      "fastestLapSpeed            0.0136      0.006      2.302      0.022       0.002       0.025\n",
      "engineType                 0.2795      0.208      1.342      0.180      -0.130       0.689\n",
      "==============================================================================\n",
      "Omnibus:                       12.901   Durbin-Watson:                   0.897\n",
      "Prob(Omnibus):                  0.002   Jarque-Bera (JB):               15.039\n",
      "Skew:                          -0.245   Prob(JB):                     0.000542\n",
      "Kurtosis:                       3.529   Cond. No.                     1.01e+05\n",
      "==============================================================================\n",
      "\n",
      "Notes:\n",
      "[1] R² is computed without centering (uncentered) since the model does not contain a constant.\n",
      "[2] Standard Errors assume that the covariance matrix of the errors is correctly specified.\n",
      "[3] The condition number is large, 1.01e+05. This might indicate that there are\n",
      "strong multicollinearity or other numerical problems.\n"
     ]
    }
   ],
   "source": [
    "print(results.summary())"
   ]
  },
  {
   "cell_type": "markdown",
   "id": "09f1063a-d5c8-4f78-9f6d-5ee7ff9d9001",
   "metadata": {},
   "source": [
    "#### Lowest numbers tell that more likely to be significant P values is less .05"
   ]
  },
  {
   "cell_type": "markdown",
   "id": "9be06fe9-f14a-42b1-8a4f-09c3fcfd0acc",
   "metadata": {},
   "source": [
    "# Which has more influence over outcome: driving skill or engine type?\n",
    "### Driving Skill is defined as: grid, stop, and fastest lap speed"
   ]
  },
  {
   "cell_type": "markdown",
   "id": "b3fdd2d0-d8b1-4c0c-bf86-e32557239a7b",
   "metadata": {},
   "source": [
    "### Backwards Elimination Stepwise Regression"
   ]
  },
  {
   "cell_type": "code",
   "execution_count": 19,
   "id": "d29d67f8-3ba4-4312-8e1a-be09e5a52b2d",
   "metadata": {},
   "outputs": [],
   "source": [
    "x = PIT[['grid', 'stop', 'fastestLapSpeed', 'engineType']]\n",
    "y = PIT ['position']"
   ]
  },
  {
   "cell_type": "code",
   "execution_count": 20,
   "id": "bcfe0102-8b10-47a4-ba1c-f852818f996c",
   "metadata": {},
   "outputs": [
    {
     "name": "stdout",
     "output_type": "stream",
     "text": [
      "                                 OLS Regression Results                                \n",
      "=======================================================================================\n",
      "Dep. Variable:               position   R-squared (uncentered):                   0.807\n",
      "Model:                            OLS   Adj. R-squared (uncentered):              0.806\n",
      "Method:                 Least Squares   F-statistic:                              720.5\n",
      "Date:                Thu, 02 Jun 2022   Prob (F-statistic):                   1.24e-244\n",
      "Time:                        21:22:39   Log-Likelihood:                         -2052.1\n",
      "No. Observations:                 694   AIC:                                      4112.\n",
      "Df Residuals:                     690   BIC:                                      4130.\n",
      "Df Model:                           4                                                  \n",
      "Covariance Type:            nonrobust                                                  \n",
      "===================================================================================\n",
      "                      coef    std err          t      P>|t|      [0.025      0.975]\n",
      "-----------------------------------------------------------------------------------\n",
      "grid                0.5061      0.031     16.399      0.000       0.446       0.567\n",
      "stop                0.4914      0.187      2.631      0.009       0.125       0.858\n",
      "fastestLapSpeed     0.0134      0.002      5.780      0.000       0.009       0.018\n",
      "engineType          0.2790      0.208      1.344      0.179      -0.129       0.687\n",
      "==============================================================================\n",
      "Omnibus:                       12.916   Durbin-Watson:                   0.897\n",
      "Prob(Omnibus):                  0.002   Jarque-Bera (JB):               15.053\n",
      "Skew:                          -0.245   Prob(JB):                     0.000539\n",
      "Kurtosis:                       3.529   Cond. No.                         247.\n",
      "==============================================================================\n",
      "\n",
      "Notes:\n",
      "[1] R² is computed without centering (uncentered) since the model does not contain a constant.\n",
      "[2] Standard Errors assume that the covariance matrix of the errors is correctly specified.\n"
     ]
    }
   ],
   "source": [
    "results = sm.OLS(y, x).fit()\n",
    "print(results.summary())"
   ]
  },
  {
   "cell_type": "markdown",
   "id": "6eb1f77e-d33c-46b3-a2e1-838056f119d6",
   "metadata": {},
   "source": [
    "### Engine Type has the least significant p value at 0.179.\n",
    "### We are removing that and rerunning the regression."
   ]
  },
  {
   "cell_type": "code",
   "execution_count": 21,
   "id": "0fef6630-1f03-4c48-b1d7-5274efdc0370",
   "metadata": {},
   "outputs": [],
   "source": [
    "x = PIT[['grid', 'stop', 'fastestLapSpeed']]\n",
    "y = PIT ['position']"
   ]
  },
  {
   "cell_type": "code",
   "execution_count": 22,
   "id": "101f38a3-266e-46f0-af1f-3013ed290c82",
   "metadata": {},
   "outputs": [
    {
     "name": "stdout",
     "output_type": "stream",
     "text": [
      "                                 OLS Regression Results                                \n",
      "=======================================================================================\n",
      "Dep. Variable:               position   R-squared (uncentered):                   0.806\n",
      "Model:                            OLS   Adj. R-squared (uncentered):              0.805\n",
      "Method:                 Least Squares   F-statistic:                              958.9\n",
      "Date:                Thu, 02 Jun 2022   Prob (F-statistic):                   9.10e-246\n",
      "Time:                        21:22:59   Log-Likelihood:                         -2053.0\n",
      "No. Observations:                 694   AIC:                                      4112.\n",
      "Df Residuals:                     691   BIC:                                      4126.\n",
      "Df Model:                           3                                                  \n",
      "Covariance Type:            nonrobust                                                  \n",
      "===================================================================================\n",
      "                      coef    std err          t      P>|t|      [0.025      0.975]\n",
      "-----------------------------------------------------------------------------------\n",
      "grid                0.5206      0.029     17.996      0.000       0.464       0.577\n",
      "stop                0.4918      0.187      2.631      0.009       0.125       0.859\n",
      "fastestLapSpeed     0.0144      0.002      6.543      0.000       0.010       0.019\n",
      "==============================================================================\n",
      "Omnibus:                       12.889   Durbin-Watson:                   0.902\n",
      "Prob(Omnibus):                  0.002   Jarque-Bera (JB):               14.799\n",
      "Skew:                          -0.251   Prob(JB):                     0.000612\n",
      "Kurtosis:                       3.511   Cond. No.                         222.\n",
      "==============================================================================\n",
      "\n",
      "Notes:\n",
      "[1] R² is computed without centering (uncentered) since the model does not contain a constant.\n",
      "[2] Standard Errors assume that the covariance matrix of the errors is correctly specified.\n"
     ]
    }
   ],
   "source": [
    "results = sm.OLS(y, x).fit()\n",
    "print(results.summary())"
   ]
  },
  {
   "cell_type": "markdown",
   "id": "353640fb-fee4-4262-82b7-9645450d306b",
   "metadata": {},
   "source": [
    "### Grid position, pit stop times, and fastest lap speed have the most influence.\n",
    "### Driving Skill has influence over outcome and Engine Type does not."
   ]
  }
 ],
 "metadata": {
  "kernelspec": {
   "display_name": "Python 3 (ipykernel)",
   "language": "python",
   "name": "python3"
  },
  "language_info": {
   "codemirror_mode": {
    "name": "ipython",
    "version": 3
   },
   "file_extension": ".py",
   "mimetype": "text/x-python",
   "name": "python",
   "nbconvert_exporter": "python",
   "pygments_lexer": "ipython3",
   "version": "3.9.10"
  }
 },
 "nbformat": 4,
 "nbformat_minor": 5
}
