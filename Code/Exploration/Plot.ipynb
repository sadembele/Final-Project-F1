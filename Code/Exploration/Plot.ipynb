{
 "cells": [
  {
   "cell_type": "code",
   "execution_count": 12,
   "id": "c3263e7f-21a8-478a-9b99-2351bf53c68a",
   "metadata": {},
   "outputs": [],
   "source": [
    "import pandas as pd\n",
    "import numpy as np\n",
    "from sklearn import linear_model\n",
    "import statsmodels.api as sm\n",
    "import matplotlib.pyplot as plt\n",
    "%matplotlib inline"
   ]
  },
  {
   "cell_type": "code",
   "execution_count": 13,
   "id": "c10cc10e-da54-4eab-9c2f-8a2485c8bec9",
   "metadata": {},
   "outputs": [],
   "source": [
    "Result2021 = pd.read_csv('/Users/biddieb/Desktop/Formula 1 Final project/Webscraping data/F12021.csv')"
   ]
  },
  {
   "cell_type": "code",
   "execution_count": 14,
   "id": "26daaba2-1f23-4230-8b8b-be79b1371480",
   "metadata": {},
   "outputs": [],
   "source": [
    "## Result2021 = pd.read_csv('/Users/biddieb/Desktop/updated_PitStopFinal.csv')"
   ]
  },
  {
   "cell_type": "code",
   "execution_count": 15,
   "id": "8579dabd-55ef-4211-9796-83e14fc28d7b",
   "metadata": {},
   "outputs": [
    {
     "name": "stdout",
     "output_type": "stream",
     "text": [
      "<class 'pandas.core.frame.DataFrame'>\n",
      "RangeIndex: 22 entries, 0 to 21\n",
      "Data columns (total 6 columns):\n",
      " #   Column    Non-Null Count  Dtype \n",
      "---  ------    --------------  ----- \n",
      " 0   Track     22 non-null     object\n",
      " 1   Date      22 non-null     object\n",
      " 2   Driver    22 non-null     object\n",
      " 3   Company   22 non-null     object\n",
      " 4   Laps      22 non-null     int64 \n",
      " 5   Lap_Time  22 non-null     object\n",
      "dtypes: int64(1), object(5)\n",
      "memory usage: 1.2+ KB\n"
     ]
    }
   ],
   "source": [
    "Result2021.info()"
   ]
  },
  {
   "cell_type": "code",
   "execution_count": 16,
   "id": "68ff29d4-2510-49e4-9b1a-70feda7fdf9e",
   "metadata": {},
   "outputs": [
    {
     "data": {
      "text/html": [
       "<div>\n",
       "<style scoped>\n",
       "    .dataframe tbody tr th:only-of-type {\n",
       "        vertical-align: middle;\n",
       "    }\n",
       "\n",
       "    .dataframe tbody tr th {\n",
       "        vertical-align: top;\n",
       "    }\n",
       "\n",
       "    .dataframe thead th {\n",
       "        text-align: right;\n",
       "    }\n",
       "</style>\n",
       "<table border=\"1\" class=\"dataframe\">\n",
       "  <thead>\n",
       "    <tr style=\"text-align: right;\">\n",
       "      <th></th>\n",
       "      <th>Track</th>\n",
       "      <th>Date</th>\n",
       "      <th>Driver</th>\n",
       "      <th>Company</th>\n",
       "      <th>Laps</th>\n",
       "      <th>Lap_Time</th>\n",
       "    </tr>\n",
       "  </thead>\n",
       "  <tbody>\n",
       "    <tr>\n",
       "      <th>0</th>\n",
       "      <td>2021 Bahrain F1 GP</td>\n",
       "      <td>28-Mar</td>\n",
       "      <td>Lewis Hamilton\\n</td>\n",
       "      <td>Mercedes</td>\n",
       "      <td>56</td>\n",
       "      <td>32:03.9</td>\n",
       "    </tr>\n",
       "    <tr>\n",
       "      <th>1</th>\n",
       "      <td>2021 E. Romagna F1 GP</td>\n",
       "      <td>18-Apr</td>\n",
       "      <td>Max Verstappen\\n</td>\n",
       "      <td>Red Bull</td>\n",
       "      <td>63</td>\n",
       "      <td>02:34.6</td>\n",
       "    </tr>\n",
       "    <tr>\n",
       "      <th>2</th>\n",
       "      <td>2021 Portuguese F1 GP</td>\n",
       "      <td>2-May</td>\n",
       "      <td>Lewis Hamilton\\n</td>\n",
       "      <td>Mercedes</td>\n",
       "      <td>66</td>\n",
       "      <td>34:31.4</td>\n",
       "    </tr>\n",
       "    <tr>\n",
       "      <th>3</th>\n",
       "      <td>2021 Spanish F1 GP</td>\n",
       "      <td>9-May</td>\n",
       "      <td>Lewis Hamilton\\n</td>\n",
       "      <td>Mercedes</td>\n",
       "      <td>66</td>\n",
       "      <td>33:07.7</td>\n",
       "    </tr>\n",
       "    <tr>\n",
       "      <th>4</th>\n",
       "      <td>2021 Monaco F1 GP</td>\n",
       "      <td>23-May</td>\n",
       "      <td>Max Verstappen\\n</td>\n",
       "      <td>Red Bull</td>\n",
       "      <td>78</td>\n",
       "      <td>38:56.8</td>\n",
       "    </tr>\n",
       "  </tbody>\n",
       "</table>\n",
       "</div>"
      ],
      "text/plain": [
       "                   Track    Date             Driver    Company  Laps Lap_Time\n",
       "0     2021 Bahrain F1 GP  28-Mar   Lewis Hamilton\\n   Mercedes    56  32:03.9\n",
       "1  2021 E. Romagna F1 GP  18-Apr   Max Verstappen\\n   Red Bull    63  02:34.6\n",
       "2  2021 Portuguese F1 GP   2-May   Lewis Hamilton\\n   Mercedes    66  34:31.4\n",
       "3     2021 Spanish F1 GP   9-May   Lewis Hamilton\\n   Mercedes    66  33:07.7\n",
       "4      2021 Monaco F1 GP  23-May   Max Verstappen\\n   Red Bull    78  38:56.8"
      ]
     },
     "execution_count": 16,
     "metadata": {},
     "output_type": "execute_result"
    }
   ],
   "source": [
    "Result2021.head()"
   ]
  },
  {
   "cell_type": "code",
   "execution_count": 17,
   "id": "029ef7c0-a43c-445f-85a6-688679cae0c5",
   "metadata": {},
   "outputs": [
    {
     "data": {
      "text/plain": [
       " Max Verstappen\\n      10\n",
       " Lewis Hamilton\\n       8\n",
       " Sergio Pérez\\n         1\n",
       " Esteban Ocon\\n         1\n",
       " Daniel Ricciardo\\n     1\n",
       " Valtteri Bottas\\n      1\n",
       "Name: Driver, dtype: int64"
      ]
     },
     "execution_count": 17,
     "metadata": {},
     "output_type": "execute_result"
    }
   ],
   "source": [
    "Result2021.Driver.value_counts()"
   ]
  },
  {
   "cell_type": "code",
   "execution_count": 18,
   "id": "937c7dff-89a5-48c0-af5b-9db5ce04aa91",
   "metadata": {},
   "outputs": [
    {
     "data": {
      "text/plain": [
       "<BarContainer object of 6 artists>"
      ]
     },
     "execution_count": 18,
     "metadata": {},
     "output_type": "execute_result"
    },
    {
     "data": {
      "image/png": "[encoded data removed]",
      "text/plain": [
       "<Figure size 720x720 with 1 Axes>"
      ]
     },
     "metadata": {
      "needs_background": "light"
     },
     "output_type": "display_data"
    }
   ],
   "source": [
    "vc = Result2021.Driver.value_counts()\n",
    "plt.figure(figsize=(10,10))\n",
    "plt.bar(vc.index, vc.values)"
   ]
  },
  {
   "cell_type": "code",
   "execution_count": 19,
   "id": "50afce68-9d66-42aa-90e0-3805a542f379",
   "metadata": {},
   "outputs": [
    {
     "data": {
      "text/plain": [
       "<BarContainer object of 4 artists>"
      ]
     },
     "execution_count": 19,
     "metadata": {},
     "output_type": "execute_result"
    },
    {
     "data": {
      "image/png": "[encoded data removed]",
      "text/plain": [
       "<Figure size 432x576 with 1 Axes>"
      ]
     },
     "metadata": {
      "needs_background": "light"
     },
     "output_type": "display_data"
    }
   ],
   "source": [
    "vc = Result2021.Company.value_counts()\n",
    "plt.figure(figsize=(6,8))\n",
    "plt.bar(vc.index, vc.values)"
   ]
  },
  {
   "cell_type": "code",
   "execution_count": 20,
   "id": "87365fc1-836d-4ed0-90e8-1a4357f9872a",
   "metadata": {},
   "outputs": [
    {
     "data": {
      "text/plain": [
       " Red Bull    11\n",
       " Mercedes     9\n",
       " Alpine       1\n",
       " McLaren      1\n",
       "Name: Company, dtype: int64"
      ]
     },
     "execution_count": 20,
     "metadata": {},
     "output_type": "execute_result"
    }
   ],
   "source": [
    "Result2021.Company.value_counts()"
   ]
  },
  {
   "cell_type": "code",
   "execution_count": null,
   "id": "8523972e-4e7c-45ee-9269-876bf433c3b2",
   "metadata": {},
   "outputs": [],
   "source": []
  }
 ],
 "metadata": {
  "kernelspec": {
   "display_name": "Python 3 (ipykernel)",
   "language": "python",
   "name": "python3"
  },
  "language_info": {
   "codemirror_mode": {
    "name": "ipython",
    "version": 3
   },
   "file_extension": ".py",
   "mimetype": "text/x-python",
   "name": "python",
   "nbconvert_exporter": "python",
   "pygments_lexer": "ipython3",
   "version": "3.9.10"
  }
 },
 "nbformat": 4,
 "nbformat_minor": 5
}
